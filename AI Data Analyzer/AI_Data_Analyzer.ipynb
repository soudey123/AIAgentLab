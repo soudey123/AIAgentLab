{
  "nbformat": 4,
  "nbformat_minor": 0,
  "metadata": {
    "colab": {
      "provenance": []
    },
    "kernelspec": {
      "name": "python3",
      "display_name": "Python 3"
    },
    "language_info": {
      "name": "python"
    }
  },
  "cells": [
    {
      "cell_type": "code",
      "execution_count": 5,
      "metadata": {
        "colab": {
          "base_uri": "https://localhost:8080/"
        },
        "id": "tmOUpc__ayAy",
        "outputId": "22b8d384-67bb-4dd9-ba14-856333557958"
      },
      "outputs": [
        {
          "output_type": "stream",
          "name": "stdout",
          "text": [
            "Overwriting app.py\n"
          ]
        }
      ],
      "source": [
        "%%writefile app.py\n",
        "import streamlit as st\n",
        "import pandas as pd\n",
        "from openai import OpenAI\n",
        "import requests\n",
        "\n",
        "# Set page configuration\n",
        "st.set_page_config(page_title=\"AI Data Analyzer\", layout=\"wide\")\n",
        "\n",
        "# App title\n",
        "st.title(\"AI Data Analyzer\")\n",
        "\n",
        "# Sidebar for API Key input\n",
        "st.sidebar.header(\"Configuration\")\n",
        "api_provider = st.sidebar.selectbox(\"Select API Provider\", [\"OpenAI\", \"Gemini\", \"Claude\", \"Grok\", \"Perplexity\"])\n",
        "api_key = st.sidebar.text_input(f\"Enter your {api_provider} API Key\", type=\"password\")\n",
        "\n",
        "# Initialize OpenAI client\n",
        "client = None\n",
        "\n",
        "# Function to set API keys based on the provider\n",
        "def set_api_key(provider, key):\n",
        "    global client\n",
        "    if provider == \"OpenAI\":\n",
        "        client = OpenAI(api_key=key)\n",
        "    elif provider == \"Gemini\":\n",
        "        # Placeholder for Gemini API setup\n",
        "        st.sidebar.info(\"Gemini API setup in progress.\")\n",
        "    elif provider == \"Claude\":\n",
        "        # Placeholder for Claude API setup\n",
        "        st.sidebar.info(\"Claude API setup in progress.\")\n",
        "    elif provider == \"Grok\":\n",
        "        # Placeholder for Grok API setup\n",
        "        st.sidebar.info(\"Grok API setup in progress.\")\n",
        "    elif provider == \"Perplexity\":\n",
        "        # Placeholder for Perplexity API setup\n",
        "        st.sidebar.info(\"Perplexity API setup in progress.\")\n",
        "\n",
        "if api_key:\n",
        "    set_api_key(api_provider, api_key)\n",
        "\n",
        "# Upload data file\n",
        "uploaded_file = st.file_uploader(\"Upload your data file (CSV, Excel, or TXT):\", type=[\"csv\", \"xlsx\", \"xls\", \"txt\"])\n",
        "\n",
        "def load_data(file):\n",
        "    \"\"\"Load data from uploaded file.\"\"\"\n",
        "    if file.name.endswith(\".csv\"):\n",
        "        return pd.read_csv(file)\n",
        "    elif file.name.endswith(\".xlsx\") or file.name.endswith(\".xls\"):\n",
        "        return pd.read_excel(file)\n",
        "    elif file.name.endswith(\".txt\"):\n",
        "        return pd.read_csv(file, delimiter=\"\\t\")\n",
        "    else:\n",
        "        st.error(\"Unsupported file format.\")\n",
        "        return None\n",
        "\n",
        "if uploaded_file:\n",
        "    try:\n",
        "        data = load_data(uploaded_file)\n",
        "        st.write(\"### Data Preview\")\n",
        "        st.dataframe(data.head())\n",
        "\n",
        "        st.write(\"### Data Analysis\")\n",
        "        query = st.text_area(\"Enter your analysis query:\", \"E.g., Summarize the dataset, find correlation, etc.\")\n",
        "\n",
        "        if st.button(\"Analyze Data\"):\n",
        "            if not api_key:\n",
        "                st.error(\"Please enter your API Key in the sidebar.\")\n",
        "            else:\n",
        "                try:\n",
        "                    if api_provider == \"OpenAI\":\n",
        "                        prompt = f\"Analyze the following dataset and answer the query.\\n\\nDataset:\\n{data.head(10).to_csv(index=False)}\\n\\nQuery:\\n{query}\"\n",
        "                        response = client.chat.completions.create(\n",
        "                            model=\"gpt-4\",\n",
        "                            messages=[\n",
        "                                {\"role\": \"system\", \"content\": \"You are a helpful data analysis assistant.\"},\n",
        "                                {\"role\": \"user\", \"content\": prompt}\n",
        "                            ],\n",
        "                            max_tokens=1500,\n",
        "                            temperature=0.7\n",
        "                        )\n",
        "                        st.write(\"### Analysis Result\")\n",
        "                        st.write(response.choices[0].message.content.strip())\n",
        "                    elif api_provider in [\"Gemini\", \"Claude\", \"Grok\", \"Perplexity\"]:\n",
        "                        st.error(f\"Support for {api_provider} API provider is under development.\")\n",
        "                    else:\n",
        "                        st.error(\"Invalid API provider selected.\")\n",
        "                except Exception as e:\n",
        "                    st.error(f\"An error occurred: {e}\")\n",
        "    except Exception as e:\n",
        "        st.error(f\"Failed to load data: {e}\")\n",
        "\n",
        "# Footer\n",
        "st.sidebar.markdown(\"---\")\n",
        "st.sidebar.markdown(\"Developed by [Your Name]\")\n",
        "st.sidebar.markdown(\"Source Code: [GitHub Repository](https://github.com/yourusername/ai-data-analyzer)\")"
      ]
    },
    {
      "cell_type": "code",
      "source": [
        "from pyngrok import ngrok\n",
        "\n",
        "# Kill any previous Streamlit instances\n",
        "!kill -9 $(lsof -t -i:8501)\n",
        "\n",
        "# Configure ngrok with your authtoken\n",
        "ngrok.set_auth_token(\"<YOUR NGROK TOKEN>\")  # Replace with your actual token\n",
        "\n",
        "# **Instead of listing and killing existing tunnels, check if a tunnel is active on port 8501:**\n",
        "try:\n",
        "    # Check if a tunnel is already running on port 8501\n",
        "    tunnel = ngrok.get_tunnels()[0]  # Assuming only one tunnel is active\n",
        "    print(f\"Existing tunnel found: {tunnel.public_url}\")\n",
        "    public_url = tunnel.public_url\n",
        "except IndexError:\n",
        "    # If no tunnel is found, start a new one\n",
        "    public_url = ngrok.connect(8501, proto=\"http\")\n",
        "    print(f\"New tunnel started: {public_url}\")\n",
        "\n",
        "print(f\"Public URL: {public_url}\")"
      ],
      "metadata": {
        "colab": {
          "base_uri": "https://localhost:8080/"
        },
        "id": "RzPKuWNha83U",
        "outputId": "050c820e-da95-4f8f-cee0-505e08af3aa6"
      },
      "execution_count": 6,
      "outputs": [
        {
          "output_type": "stream",
          "name": "stdout",
          "text": [
            "Existing tunnel found: https://2738-34-80-105-10.ngrok-free.app\n",
            "Public URL: https://2738-34-80-105-10.ngrok-free.app\n"
          ]
        }
      ]
    },
    {
      "cell_type": "code",
      "source": [
        "pip install streamlit pyngrok"
      ],
      "metadata": {
        "id": "vtO9TbKNbvDE"
      },
      "execution_count": null,
      "outputs": []
    },
    {
      "cell_type": "code",
      "source": [
        "pip show openai"
      ],
      "metadata": {
        "colab": {
          "base_uri": "https://localhost:8080/"
        },
        "id": "pD4E3NubDJ8P",
        "outputId": "f7f1c173-81ae-4c29-bba1-d55d45ff44eb"
      },
      "execution_count": 4,
      "outputs": [
        {
          "output_type": "stream",
          "name": "stdout",
          "text": [
            "Name: openai\n",
            "Version: 1.57.4\n",
            "Summary: The official Python library for the openai API\n",
            "Home-page: https://github.com/openai/openai-python\n",
            "Author: \n",
            "Author-email: OpenAI <support@openai.com>\n",
            "License: Apache-2.0\n",
            "Location: /usr/local/lib/python3.10/dist-packages\n",
            "Requires: anyio, distro, httpx, jiter, pydantic, sniffio, tqdm, typing-extensions\n",
            "Required-by: \n"
          ]
        }
      ]
    },
    {
      "cell_type": "code",
      "source": [
        "!streamlit run app.py &>/content/logs.txt &"
      ],
      "metadata": {
        "id": "QQBoVLTQbzoQ"
      },
      "execution_count": 7,
      "outputs": []
    }
  ]
}